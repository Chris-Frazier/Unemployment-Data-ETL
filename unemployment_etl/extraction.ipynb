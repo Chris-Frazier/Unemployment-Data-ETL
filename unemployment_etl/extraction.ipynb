{
 "cells": [
  {
   "cell_type": "markdown",
   "metadata": {},
   "source": [
    "## Extraction.ipynb\n",
    "This extracts dataframes from three different data sources\n",
    "1. `states.csv`: the data which maps state names to state abbreviations\n",
    "2. `crime_data_w_population_and_crime_rate.csv`: the county data on crime rates based on crime reports from 2013\n",
    "3. `result.json`: yearly/monthly data on unemployment by county in the USA"
   ]
  },
  {
   "cell_type": "code",
   "execution_count": null,
   "metadata": {},
   "outputs": [],
   "source": [
    "import pandas as pd\n",
    "import json"
   ]
  },
  {
   "cell_type": "markdown",
   "metadata": {},
   "source": [
    "### State-to-abbreviation map\n",
    "This is straightforward"
   ]
  },
  {
   "cell_type": "code",
   "execution_count": null,
   "metadata": {},
   "outputs": [],
   "source": [
    "state_abb = pd.read_csv(\"states.csv\")\n",
    "state_abb.head()"
   ]
  },
  {
   "cell_type": "markdown",
   "metadata": {},
   "source": [
    "### Crime Rate Dataframe\n",
    "Also straightforward to extract"
   ]
  },
  {
   "cell_type": "code",
   "execution_count": null,
   "metadata": {},
   "outputs": [],
   "source": [
    "crime_rate_df = pd.read_csv(\"crime_data_w_population_and_crime_rate.csv\")\n",
    "crime_rate_df.head()"
   ]
  },
  {
   "cell_type": "markdown",
   "metadata": {},
   "source": [
    "### Unemployment JSON\n",
    "This is a little trickier since we cannot directly load into a pandas dataframe using a library function; we have to construct it in a more hands-on way. Note here that we only get annual data from the year 2013."
   ]
  },
  {
   "cell_type": "code",
   "execution_count": null,
   "metadata": {},
   "outputs": [],
   "source": [
    "with open('result.json') as json_file:\n",
    "    data = json.load(json_file)\n",
    "\n",
    "unemployment_df = pd.DataFrame(columns=['county', 'state', 'unemployment_rate'])\n",
    "\n",
    "for state, v in data['2013']['Annual'].items():\n",
    "    for county, rate in v['Unemployment Rate'].items():\n",
    "        unemployment_df = unemployment_df.append({'county': county, 'state': state, 'unemployment_rate': rate}, ignore_index=True)\n",
    "\n",
    "unemployment_df.head()"
   ]
  }
 ],
 "metadata": {
  "kernelspec": {
   "display_name": "Python3 (PythonData)",
   "language": "python",
   "name": "pythondata"
  },
  "language_info": {
   "codemirror_mode": {
    "name": "ipython",
    "version": 3
   },
   "file_extension": ".py",
   "mimetype": "text/x-python",
   "name": "python",
   "nbconvert_exporter": "python",
   "pygments_lexer": "ipython3",
   "version": "3.6.7"
  }
 },
 "nbformat": 4,
 "nbformat_minor": 2
}
